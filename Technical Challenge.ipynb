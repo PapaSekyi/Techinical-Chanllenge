{
 "cells": [
  {
   "cell_type": "markdown",
   "id": "590f9a0b",
   "metadata": {},
   "source": [
    "# Olisa Nwobbi - 100893871\n",
    "# Ransford Sekyi - 100846221\n",
    "# Gurinder Kaur - 100905661\n",
    "# AI Algorithms Technical Challenge"
   ]
  },
  {
   "cell_type": "markdown",
   "id": "acbc9945",
   "metadata": {},
   "source": [
    "### Training the model"
   ]
  },
  {
   "cell_type": "code",
   "execution_count": 36,
   "id": "7b166918",
   "metadata": {},
   "outputs": [],
   "source": [
    "# Importing the necessary libraries\n",
    "\n",
    "import pandas as pd\n",
    "import numpy as np\n",
    "import seaborn as sns\n",
    "import matplotlib.pyplot as plt\n",
    "import math\n",
    "\n",
    "from sklearn.metrics import mean_squared_error, r2_score\n",
    "from sklearn.preprocessing import PolynomialFeatures"
   ]
  },
  {
   "cell_type": "code",
   "execution_count": 37,
   "id": "197ea387",
   "metadata": {},
   "outputs": [
    {
     "name": "stdout",
     "output_type": "stream",
     "text": [
      "Requirement already satisfied: xlrd in c:\\users\\olisa\\appdata\\local\\programs\\python\\python311\\lib\\site-packages (2.0.1)\n"
     ]
    },
    {
     "name": "stderr",
     "output_type": "stream",
     "text": [
      "\n",
      "[notice] A new release of pip available: 22.3.1 -> 23.0.1\n",
      "[notice] To update, run: python.exe -m pip install --upgrade pip\n"
     ]
    }
   ],
   "source": [
    "!pip install xlrd"
   ]
  },
  {
   "cell_type": "code",
   "execution_count": 38,
   "id": "0e8d52aa",
   "metadata": {},
   "outputs": [],
   "source": [
    "# Importing the data\n",
    "\n",
    "email = pd.read_excel('file.xls')"
   ]
  },
  {
   "cell_type": "code",
   "execution_count": 39,
   "id": "f8bf45ef",
   "metadata": {},
   "outputs": [
    {
     "data": {
      "text/html": [
       "<div>\n",
       "<style scoped>\n",
       "    .dataframe tbody tr th:only-of-type {\n",
       "        vertical-align: middle;\n",
       "    }\n",
       "\n",
       "    .dataframe tbody tr th {\n",
       "        vertical-align: top;\n",
       "    }\n",
       "\n",
       "    .dataframe thead th {\n",
       "        text-align: right;\n",
       "    }\n",
       "</style>\n",
       "<table border=\"1\" class=\"dataframe\">\n",
       "  <thead>\n",
       "    <tr style=\"text-align: right;\">\n",
       "      <th></th>\n",
       "      <th>ID</th>\n",
       "      <th>EMAIL</th>\n",
       "      <th>email</th>\n",
       "      <th>label</th>\n",
       "    </tr>\n",
       "  </thead>\n",
       "  <tbody>\n",
       "    <tr>\n",
       "      <th>0</th>\n",
       "      <td>1</td>\n",
       "      <td>1email@gmail.com</td>\n",
       "      <td>date wed NUMBER aug NUMBER NUMBER NUMBER NUMB...</td>\n",
       "      <td>0</td>\n",
       "    </tr>\n",
       "    <tr>\n",
       "      <th>1</th>\n",
       "      <td>2</td>\n",
       "      <td>2email@gmail.com</td>\n",
       "      <td>martin a posted tassos papadopoulos the greek ...</td>\n",
       "      <td>0</td>\n",
       "    </tr>\n",
       "    <tr>\n",
       "      <th>2</th>\n",
       "      <td>3</td>\n",
       "      <td>3email@gmail.com</td>\n",
       "      <td>man threatens explosion in moscow thursday aug...</td>\n",
       "      <td>0</td>\n",
       "    </tr>\n",
       "    <tr>\n",
       "      <th>3</th>\n",
       "      <td>4</td>\n",
       "      <td>4email@gmail.com</td>\n",
       "      <td>klez the virus that won t die already the most...</td>\n",
       "      <td>0</td>\n",
       "    </tr>\n",
       "    <tr>\n",
       "      <th>4</th>\n",
       "      <td>5</td>\n",
       "      <td>5email@gmail.com</td>\n",
       "      <td>in adding cream to spaghetti carbonara which ...</td>\n",
       "      <td>0</td>\n",
       "    </tr>\n",
       "  </tbody>\n",
       "</table>\n",
       "</div>"
      ],
      "text/plain": [
       "   ID             EMAIL                                              email  \\\n",
       "0   1  1email@gmail.com   date wed NUMBER aug NUMBER NUMBER NUMBER NUMB...   \n",
       "1   2  2email@gmail.com  martin a posted tassos papadopoulos the greek ...   \n",
       "2   3  3email@gmail.com  man threatens explosion in moscow thursday aug...   \n",
       "3   4  4email@gmail.com  klez the virus that won t die already the most...   \n",
       "4   5  5email@gmail.com   in adding cream to spaghetti carbonara which ...   \n",
       "\n",
       "   label  \n",
       "0      0  \n",
       "1      0  \n",
       "2      0  \n",
       "3      0  \n",
       "4      0  "
      ]
     },
     "execution_count": 39,
     "metadata": {},
     "output_type": "execute_result"
    }
   ],
   "source": [
    "# Viewing the first few rows\n",
    "\n",
    "email.head()"
   ]
  },
  {
   "cell_type": "code",
   "execution_count": 40,
   "id": "a8c2af84",
   "metadata": {},
   "outputs": [
    {
     "data": {
      "text/plain": [
       "(2968, 4)"
      ]
     },
     "execution_count": 40,
     "metadata": {},
     "output_type": "execute_result"
    }
   ],
   "source": [
    "# Viewing the number of rows and columns\n",
    "\n",
    "email.shape"
   ]
  },
  {
   "cell_type": "code",
   "execution_count": 41,
   "id": "6ced9560",
   "metadata": {},
   "outputs": [
    {
     "data": {
      "text/plain": [
       "ID       0\n",
       "EMAIL    0\n",
       "email    1\n",
       "label    0\n",
       "dtype: int64"
      ]
     },
     "execution_count": 41,
     "metadata": {},
     "output_type": "execute_result"
    }
   ],
   "source": [
    "# Checking if the data contains missing values and counting them\n",
    "\n",
    "email.isnull().sum()"
   ]
  },
  {
   "cell_type": "code",
   "execution_count": 42,
   "id": "aff90480",
   "metadata": {},
   "outputs": [],
   "source": [
    "email.dropna(inplace=True)"
   ]
  },
  {
   "cell_type": "code",
   "execution_count": 43,
   "id": "18e4552a",
   "metadata": {},
   "outputs": [],
   "source": [
    "# Seperating data into independent and dependent\n",
    "\n",
    "X = email[\"email\"]\n",
    "y = email[\"label\"]"
   ]
  },
  {
   "cell_type": "code",
   "execution_count": 44,
   "id": "81ed1311",
   "metadata": {
    "scrolled": true
   },
   "outputs": [
    {
     "data": {
      "text/plain": [
       "0     date wed NUMBER aug NUMBER NUMBER NUMBER NUMB...\n",
       "1    martin a posted tassos papadopoulos the greek ...\n",
       "2    man threatens explosion in moscow thursday aug...\n",
       "3    klez the virus that won t die already the most...\n",
       "4     in adding cream to spaghetti carbonara which ...\n",
       "Name: email, dtype: object"
      ]
     },
     "execution_count": 44,
     "metadata": {},
     "output_type": "execute_result"
    }
   ],
   "source": [
    "X.head()"
   ]
  },
  {
   "cell_type": "markdown",
   "id": "7126cd2c",
   "metadata": {},
   "source": [
    "### Building the model (Naive Bayes)"
   ]
  },
  {
   "cell_type": "code",
   "execution_count": 45,
   "id": "c759b87f",
   "metadata": {},
   "outputs": [
    {
     "data": {
      "text/html": [
       "<style>#sk-container-id-2 {color: black;background-color: white;}#sk-container-id-2 pre{padding: 0;}#sk-container-id-2 div.sk-toggleable {background-color: white;}#sk-container-id-2 label.sk-toggleable__label {cursor: pointer;display: block;width: 100%;margin-bottom: 0;padding: 0.3em;box-sizing: border-box;text-align: center;}#sk-container-id-2 label.sk-toggleable__label-arrow:before {content: \"▸\";float: left;margin-right: 0.25em;color: #696969;}#sk-container-id-2 label.sk-toggleable__label-arrow:hover:before {color: black;}#sk-container-id-2 div.sk-estimator:hover label.sk-toggleable__label-arrow:before {color: black;}#sk-container-id-2 div.sk-toggleable__content {max-height: 0;max-width: 0;overflow: hidden;text-align: left;background-color: #f0f8ff;}#sk-container-id-2 div.sk-toggleable__content pre {margin: 0.2em;color: black;border-radius: 0.25em;background-color: #f0f8ff;}#sk-container-id-2 input.sk-toggleable__control:checked~div.sk-toggleable__content {max-height: 200px;max-width: 100%;overflow: auto;}#sk-container-id-2 input.sk-toggleable__control:checked~label.sk-toggleable__label-arrow:before {content: \"▾\";}#sk-container-id-2 div.sk-estimator input.sk-toggleable__control:checked~label.sk-toggleable__label {background-color: #d4ebff;}#sk-container-id-2 div.sk-label input.sk-toggleable__control:checked~label.sk-toggleable__label {background-color: #d4ebff;}#sk-container-id-2 input.sk-hidden--visually {border: 0;clip: rect(1px 1px 1px 1px);clip: rect(1px, 1px, 1px, 1px);height: 1px;margin: -1px;overflow: hidden;padding: 0;position: absolute;width: 1px;}#sk-container-id-2 div.sk-estimator {font-family: monospace;background-color: #f0f8ff;border: 1px dotted black;border-radius: 0.25em;box-sizing: border-box;margin-bottom: 0.5em;}#sk-container-id-2 div.sk-estimator:hover {background-color: #d4ebff;}#sk-container-id-2 div.sk-parallel-item::after {content: \"\";width: 100%;border-bottom: 1px solid gray;flex-grow: 1;}#sk-container-id-2 div.sk-label:hover label.sk-toggleable__label {background-color: #d4ebff;}#sk-container-id-2 div.sk-serial::before {content: \"\";position: absolute;border-left: 1px solid gray;box-sizing: border-box;top: 0;bottom: 0;left: 50%;z-index: 0;}#sk-container-id-2 div.sk-serial {display: flex;flex-direction: column;align-items: center;background-color: white;padding-right: 0.2em;padding-left: 0.2em;position: relative;}#sk-container-id-2 div.sk-item {position: relative;z-index: 1;}#sk-container-id-2 div.sk-parallel {display: flex;align-items: stretch;justify-content: center;background-color: white;position: relative;}#sk-container-id-2 div.sk-item::before, #sk-container-id-2 div.sk-parallel-item::before {content: \"\";position: absolute;border-left: 1px solid gray;box-sizing: border-box;top: 0;bottom: 0;left: 50%;z-index: -1;}#sk-container-id-2 div.sk-parallel-item {display: flex;flex-direction: column;z-index: 1;position: relative;background-color: white;}#sk-container-id-2 div.sk-parallel-item:first-child::after {align-self: flex-end;width: 50%;}#sk-container-id-2 div.sk-parallel-item:last-child::after {align-self: flex-start;width: 50%;}#sk-container-id-2 div.sk-parallel-item:only-child::after {width: 0;}#sk-container-id-2 div.sk-dashed-wrapped {border: 1px dashed gray;margin: 0 0.4em 0.5em 0.4em;box-sizing: border-box;padding-bottom: 0.4em;background-color: white;}#sk-container-id-2 div.sk-label label {font-family: monospace;font-weight: bold;display: inline-block;line-height: 1.2em;}#sk-container-id-2 div.sk-label-container {text-align: center;}#sk-container-id-2 div.sk-container {/* jupyter's `normalize.less` sets `[hidden] { display: none; }` but bootstrap.min.css set `[hidden] { display: none !important; }` so we also need the `!important` here to be able to override the default hidden behavior on the sphinx rendered scikit-learn.org. See: https://github.com/scikit-learn/scikit-learn/issues/21755 */display: inline-block !important;position: relative;}#sk-container-id-2 div.sk-text-repr-fallback {display: none;}</style><div id=\"sk-container-id-2\" class=\"sk-top-container\"><div class=\"sk-text-repr-fallback\"><pre>MultinomialNB()</pre><b>In a Jupyter environment, please rerun this cell to show the HTML representation or trust the notebook. <br />On GitHub, the HTML representation is unable to render, please try loading this page with nbviewer.org.</b></div><div class=\"sk-container\" hidden><div class=\"sk-item\"><div class=\"sk-estimator sk-toggleable\"><input class=\"sk-toggleable__control sk-hidden--visually\" id=\"sk-estimator-id-2\" type=\"checkbox\" checked><label for=\"sk-estimator-id-2\" class=\"sk-toggleable__label sk-toggleable__label-arrow\">MultinomialNB</label><div class=\"sk-toggleable__content\"><pre>MultinomialNB()</pre></div></div></div></div></div>"
      ],
      "text/plain": [
       "MultinomialNB()"
      ]
     },
     "execution_count": 45,
     "metadata": {},
     "output_type": "execute_result"
    }
   ],
   "source": [
    "from sklearn.feature_extraction.text import CountVectorizer\n",
    "from sklearn.naive_bayes import MultinomialNB\n",
    "from sklearn.metrics import accuracy_score, confusion_matrix\n",
    "\n",
    "# Create a CountVectorizer object to transform text into numerical features\n",
    "vectorizer = CountVectorizer(stop_words='english')\n",
    "X_vec = vectorizer.fit_transform(X)\n",
    "\n",
    "# train a Naive Bayes model on the labeled data\n",
    "model = MultinomialNB()\n",
    "model.fit(X_vec, y)"
   ]
  },
  {
   "cell_type": "markdown",
   "id": "5c37fa04",
   "metadata": {},
   "source": [
    "### Email System"
   ]
  },
  {
   "cell_type": "code",
   "execution_count": 46,
   "id": "349b64dc",
   "metadata": {},
   "outputs": [
    {
     "name": "stdout",
     "output_type": "stream",
     "text": [
      "Welcome to the program!\n",
      "1. Create a New User\n",
      "2. Login and Send Email\n",
      "3. Exit\n",
      ">2\n",
      "Enter your username: Olisa@gmail.com\n",
      "Enter your password: ········\n",
      "Login successful!\n",
      "Enter a message: GET FREE SAMPLES\n"
     ]
    },
    {
     "name": "stderr",
     "output_type": "stream",
     "text": [
      "C:\\Users\\Olisa\\AppData\\Local\\Temp\\ipykernel_11760\\3869130245.py:72: FutureWarning: The frame.append method is deprecated and will be removed from pandas in a future version. Use pandas.concat instead.\n",
      "  messages_df = messages_df.append(new_row, ignore_index=True)\n"
     ]
    },
    {
     "name": "stdout",
     "output_type": "stream",
     "text": [
      "Message saved successfully!\n",
      "The message is spam.\n",
      "Welcome to the program!\n",
      "1. Create a New User\n",
      "2. Login and Send Email\n",
      "3. Exit\n",
      ">2\n",
      "Enter your username: Olisa@gmail.com\n",
      "Enter your password: ········\n",
      "Incorrect password!\n",
      "Welcome to the program!\n",
      "1. Create a New User\n",
      "2. Login and Send Email\n",
      "3. Exit\n",
      ">2\n",
      "Enter your username: Olisa@gmail.com\n",
      "Enter your password: ········\n",
      "Login successful!\n",
      "Enter a message:  date wed NUMBER aug NUMBER NUMBER NUMBER NUMBER NUMBER from chris garrigues cwg dated NUMBER NUMBERfaNUMBERd deepeddy com message id NUMBER NUMBER tmda deepeddy vircio com i can t reproduce this error for me it is very repeatable like every time without fail this is the debug log of the pick happening NUMBER NUMBER NUMBER pick_it exec pick inbox list lbrace lbrace subject ftp rbrace rbrace NUMBER NUMBER sequence mercury NUMBER NUMBER NUMBER exec pick inbox list lbrace lbrace subject ftp rbrace rbrace NUMBER NUMBER sequence mercury NUMBER NUMBER NUMBER ftoc_pickmsgs NUMBER hit NUMBER NUMBER NUMBER marking NUMBER hits NUMBER NUMBER NUMBER tkerror syntax error in expression int note if i run the pick command by hand delta pick inbox list lbrace lbrace subject ftp rbrace rbrace NUMBER NUMBER sequence mercury NUMBER hit that s where the NUMBER hit comes from obviously the version of nmh i m using is delta pick version pick nmh NUMBER NUMBER NUMBER compiled on URL at sun mar NUMBER NUMBER NUMBER NUMBER ict NUMBER and the relevant part of my mh_profile delta mhparam pick seq sel list since the pick command works the sequence actually both of them the one that s explicit on the command line from the search popup and the one that comes from mh_profile do get created kre ps this is still using the version of the code form a day ago i haven t been able to reach the cvs repository today local routing issue i think _______________________________________________ exmh workers mailing list exmh workers URL URL \n"
     ]
    },
    {
     "name": "stderr",
     "output_type": "stream",
     "text": [
      "C:\\Users\\Olisa\\AppData\\Local\\Temp\\ipykernel_11760\\3869130245.py:72: FutureWarning: The frame.append method is deprecated and will be removed from pandas in a future version. Use pandas.concat instead.\n",
      "  messages_df = messages_df.append(new_row, ignore_index=True)\n"
     ]
    },
    {
     "name": "stdout",
     "output_type": "stream",
     "text": [
      "Message saved successfully!\n",
      "The message is not spam.\n",
      "Welcome to the program!\n",
      "1. Create a New User\n",
      "2. Login and Send Email\n",
      "3. Exit\n"
     ]
    },
    {
     "ename": "KeyboardInterrupt",
     "evalue": "Interrupted by user",
     "output_type": "error",
     "traceback": [
      "\u001b[1;31m---------------------------------------------------------------------------\u001b[0m",
      "\u001b[1;31mKeyboardInterrupt\u001b[0m                         Traceback (most recent call last)",
      "Cell \u001b[1;32mIn[46], line 93\u001b[0m\n\u001b[0;32m     91\u001b[0m \u001b[38;5;28mprint\u001b[39m(\u001b[38;5;124m\"\u001b[39m\u001b[38;5;124m2. Login and Send Email\u001b[39m\u001b[38;5;124m\"\u001b[39m)\n\u001b[0;32m     92\u001b[0m \u001b[38;5;28mprint\u001b[39m(\u001b[38;5;124m\"\u001b[39m\u001b[38;5;124m3. Exit\u001b[39m\u001b[38;5;124m\"\u001b[39m)\n\u001b[1;32m---> 93\u001b[0m new_user \u001b[38;5;241m=\u001b[39m \u001b[38;5;28;43minput\u001b[39;49m\u001b[43m(\u001b[49m\u001b[38;5;124;43m\"\u001b[39;49m\u001b[38;5;124;43m>\u001b[39;49m\u001b[38;5;124;43m\"\u001b[39;49m\u001b[43m)\u001b[49m\n\u001b[0;32m     94\u001b[0m \u001b[38;5;28;01mif\u001b[39;00m new_user \u001b[38;5;241m==\u001b[39m \u001b[38;5;124m'\u001b[39m\u001b[38;5;124m1\u001b[39m\u001b[38;5;124m'\u001b[39m:\n\u001b[0;32m     95\u001b[0m     create_account()\n",
      "File \u001b[1;32m~\\AppData\\Local\\Programs\\Python\\Python311\\Lib\\site-packages\\ipykernel\\kernelbase.py:1187\u001b[0m, in \u001b[0;36mKernel.raw_input\u001b[1;34m(self, prompt)\u001b[0m\n\u001b[0;32m   1185\u001b[0m     msg \u001b[38;5;241m=\u001b[39m \u001b[38;5;124m\"\u001b[39m\u001b[38;5;124mraw_input was called, but this frontend does not support input requests.\u001b[39m\u001b[38;5;124m\"\u001b[39m\n\u001b[0;32m   1186\u001b[0m     \u001b[38;5;28;01mraise\u001b[39;00m StdinNotImplementedError(msg)\n\u001b[1;32m-> 1187\u001b[0m \u001b[38;5;28;01mreturn\u001b[39;00m \u001b[38;5;28;43mself\u001b[39;49m\u001b[38;5;241;43m.\u001b[39;49m\u001b[43m_input_request\u001b[49m\u001b[43m(\u001b[49m\n\u001b[0;32m   1188\u001b[0m \u001b[43m    \u001b[49m\u001b[38;5;28;43mstr\u001b[39;49m\u001b[43m(\u001b[49m\u001b[43mprompt\u001b[49m\u001b[43m)\u001b[49m\u001b[43m,\u001b[49m\n\u001b[0;32m   1189\u001b[0m \u001b[43m    \u001b[49m\u001b[38;5;28;43mself\u001b[39;49m\u001b[38;5;241;43m.\u001b[39;49m\u001b[43m_parent_ident\u001b[49m\u001b[43m[\u001b[49m\u001b[38;5;124;43m\"\u001b[39;49m\u001b[38;5;124;43mshell\u001b[39;49m\u001b[38;5;124;43m\"\u001b[39;49m\u001b[43m]\u001b[49m\u001b[43m,\u001b[49m\n\u001b[0;32m   1190\u001b[0m \u001b[43m    \u001b[49m\u001b[38;5;28;43mself\u001b[39;49m\u001b[38;5;241;43m.\u001b[39;49m\u001b[43mget_parent\u001b[49m\u001b[43m(\u001b[49m\u001b[38;5;124;43m\"\u001b[39;49m\u001b[38;5;124;43mshell\u001b[39;49m\u001b[38;5;124;43m\"\u001b[39;49m\u001b[43m)\u001b[49m\u001b[43m,\u001b[49m\n\u001b[0;32m   1191\u001b[0m \u001b[43m    \u001b[49m\u001b[43mpassword\u001b[49m\u001b[38;5;241;43m=\u001b[39;49m\u001b[38;5;28;43;01mFalse\u001b[39;49;00m\u001b[43m,\u001b[49m\n\u001b[0;32m   1192\u001b[0m \u001b[43m\u001b[49m\u001b[43m)\u001b[49m\n",
      "File \u001b[1;32m~\\AppData\\Local\\Programs\\Python\\Python311\\Lib\\site-packages\\ipykernel\\kernelbase.py:1230\u001b[0m, in \u001b[0;36mKernel._input_request\u001b[1;34m(self, prompt, ident, parent, password)\u001b[0m\n\u001b[0;32m   1227\u001b[0m \u001b[38;5;28;01mexcept\u001b[39;00m \u001b[38;5;167;01mKeyboardInterrupt\u001b[39;00m:\n\u001b[0;32m   1228\u001b[0m     \u001b[38;5;66;03m# re-raise KeyboardInterrupt, to truncate traceback\u001b[39;00m\n\u001b[0;32m   1229\u001b[0m     msg \u001b[38;5;241m=\u001b[39m \u001b[38;5;124m\"\u001b[39m\u001b[38;5;124mInterrupted by user\u001b[39m\u001b[38;5;124m\"\u001b[39m\n\u001b[1;32m-> 1230\u001b[0m     \u001b[38;5;28;01mraise\u001b[39;00m \u001b[38;5;167;01mKeyboardInterrupt\u001b[39;00m(msg) \u001b[38;5;28;01mfrom\u001b[39;00m \u001b[38;5;28mNone\u001b[39m\n\u001b[0;32m   1231\u001b[0m \u001b[38;5;28;01mexcept\u001b[39;00m \u001b[38;5;167;01mException\u001b[39;00m:\n\u001b[0;32m   1232\u001b[0m     \u001b[38;5;28mself\u001b[39m\u001b[38;5;241m.\u001b[39mlog\u001b[38;5;241m.\u001b[39mwarning(\u001b[38;5;124m\"\u001b[39m\u001b[38;5;124mInvalid Message:\u001b[39m\u001b[38;5;124m\"\u001b[39m, exc_info\u001b[38;5;241m=\u001b[39m\u001b[38;5;28;01mTrue\u001b[39;00m)\n",
      "\u001b[1;31mKeyboardInterrupt\u001b[0m: Interrupted by user"
     ]
    }
   ],
   "source": [
    "import os\n",
    "import pandas as pd\n",
    "import getpass\n",
    "import re\n",
    "\n",
    "def encrypt_password(password, encrypt_dict):\n",
    "    encrypted_password = \"\"\n",
    "    for char in password:\n",
    "        if char.isalpha():\n",
    "            char = char.upper()\n",
    "            encrypted_password += encrypt_dict[char]\n",
    "        elif char.isdigit():\n",
    "            encrypted_password += encrypt_dict[char]\n",
    "        else:\n",
    "            encrypted_password += char\n",
    "    return encrypted_password\n",
    "\n",
    "def create_account():\n",
    "    data_entry_path = \"data-entry.xlsx\"\n",
    "    messages_path = \"messages.xlsx\"\n",
    "    if not os.path.isfile(data_entry_path):\n",
    "        df = pd.DataFrame(columns=['User ID', 'Username', 'Password'])\n",
    "        df.to_excel(data_entry_path, index=False)\n",
    "    df = pd.read_excel(data_entry_path)\n",
    "    if df['User ID'].empty:\n",
    "        user_id = 1\n",
    "    else:\n",
    "        user_id = df['User ID'].max() + 1\n",
    "    username = input(\"Enter a new username: \")\n",
    "    if not re.match(r\"[^@]+@[^@]+\\.[^@]+\", username):\n",
    "        print(\"Invalid email address format!\")\n",
    "        create_account()\n",
    "    password = getpass.getpass(\"Enter your password: \")\n",
    "    if username in df.values:\n",
    "        print(\"Username already exists!\")\n",
    "        return\n",
    "    encrypt_df = pd.read_excel(\"encryption.xlsx\", index_col=0)\n",
    "    encrypt_dict = encrypt_df.to_dict()['SYSTEM CONVERT']\n",
    "    encrypted_password = encrypt_password(password, encrypt_dict)\n",
    "    new_row = pd.DataFrame({'User ID': [user_id], 'Username': [username], 'Password': [encrypted_password]})\n",
    "    df = df.append(new_row, ignore_index=True)\n",
    "    df.to_excel(data_entry_path, index=False)\n",
    "    print(f\"Congratulations {username}! Your account has been created successfully. Please log in again.\")\n",
    "\n",
    "def login():\n",
    "    data_entry_path = \"data-entry.xlsx\"\n",
    "    messages_path = \"messages.xlsx\"\n",
    "    if not os.path.isfile(data_entry_path):\n",
    "        df = pd.DataFrame(columns=['User ID', 'Username', 'Password'])\n",
    "        df.to_excel(data_entry_path, index=False)\n",
    "    if not os.path.isfile(messages_path):\n",
    "        messages_df = pd.DataFrame(columns=['Mail ID', 'User ID', 'Message'])\n",
    "        messages_df.to_excel(messages_path, index=False)\n",
    "    df = pd.read_excel(data_entry_path)\n",
    "    username = input(\"Enter your username: \")\n",
    "    password = getpass.getpass(\"Enter your password: \")\n",
    "    if username not in df.values:\n",
    "        print(\"Username does not exist!\")\n",
    "    else:\n",
    "        encrypt_df = pd.read_excel(\"encryption.xlsx\", index_col=0)\n",
    "        encrypt_dict = encrypt_df.to_dict()['SYSTEM CONVERT']\n",
    "        encrypted_password = encrypt_password(password, encrypt_dict)\n",
    "        if df.loc[df['Username'] == username, 'Password'].iloc[0] == encrypted_password:\n",
    "            print(\"Login successful!\")\n",
    "            message = input(\"Enter a message: \")\n",
    "            messages_df = pd.read_excel(messages_path)\n",
    "            if messages_df['Mail ID'].empty:\n",
    "                mail_id = 1\n",
    "            else:\n",
    "                mail_id = messages_df['Mail ID'].max() + 1\n",
    "            new_row = pd.DataFrame({'Mail ID': [mail_id], 'User ID': [df.loc[df['Username'] == username, 'User ID'].iloc[0]], 'Message': [message]})\n",
    "            messages_df = messages_df.append(new_row, ignore_index=True)\n",
    "            messages_df.to_excel(\"messages.xlsx\", index=False)\n",
    "            print(\"Message saved successfully!\")\n",
    "            # Transform the input message into numerical features\n",
    "            input_features = vectorizer.transform([message])\n",
    "            # Use the trained model to predict whether the input message is spam or not\n",
    "            predicted_label = model.predict(input_features)\n",
    "            # Print the predicted label\n",
    "            if predicted_label[0] == 0:\n",
    "                print('The message is not spam.')\n",
    "            else:\n",
    "                print('The message is spam.')\n",
    "            return\n",
    "        else:\n",
    "            print(\"Incorrect password!\")\n",
    "\n",
    "while True:\n",
    "    print(\"Welcome to the program!\")\n",
    "    print(\"1. Create a New User\")\n",
    "    print(\"2. Login and Send Email\")\n",
    "    print(\"3. Exit\")\n",
    "    new_user = input(\">\")\n",
    "    if new_user == '1':\n",
    "        create_account()\n",
    "    elif new_user == '2':\n",
    "        login()\n",
    "    elif new_user == '3':\n",
    "        break\n",
    "    else:\n",
    "        print(\"Invalid Choice\")\n"
   ]
  },
  {
   "cell_type": "code",
   "execution_count": null,
   "id": "d7121a51",
   "metadata": {},
   "outputs": [],
   "source": []
  }
 ],
 "metadata": {
  "kernelspec": {
   "display_name": "Python 3 (ipykernel)",
   "language": "python",
   "name": "python3"
  },
  "language_info": {
   "codemirror_mode": {
    "name": "ipython",
    "version": 3
   },
   "file_extension": ".py",
   "mimetype": "text/x-python",
   "name": "python",
   "nbconvert_exporter": "python",
   "pygments_lexer": "ipython3",
   "version": "3.11.1"
  }
 },
 "nbformat": 4,
 "nbformat_minor": 5
}
